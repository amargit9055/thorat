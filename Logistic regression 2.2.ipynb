{
 "cells": [
  {
   "cell_type": "markdown",
   "id": "2f2f394d",
   "metadata": {},
   "source": [
    "# Logistic Regression"
   ]
  },
  {
   "cell_type": "markdown",
   "id": "7ad8a6dc",
   "metadata": {},
   "source": [
    "### Evaluation "
   ]
  },
  {
   "cell_type": "code",
   "execution_count": null,
   "id": "ca219ba8",
   "metadata": {},
   "outputs": [],
   "source": [
    "1.Confusion Matrix\n",
    "2.Classification report\n",
    "3.Accuracy score"
   ]
  },
  {
   "cell_type": "markdown",
   "id": "a9f506d4",
   "metadata": {},
   "source": [
    "# Confusion matrix"
   ]
  },
  {
   "cell_type": "code",
   "execution_count": null,
   "id": "ded4abe1",
   "metadata": {},
   "outputs": [],
   "source": [
    "Used for evaluating performance of classification model\n",
    "\n",
    "It compares actual target values with those predicted values by machine learning algorithm"
   ]
  },
  {
   "cell_type": "code",
   "execution_count": null,
   "id": "f57c6f30",
   "metadata": {},
   "outputs": [],
   "source": [
    "TP >> True Positive >> Positively class got correctly classified\n",
    "\n",
    "TN >> True Negative >> Negative class got correctly classified\n",
    "\n",
    "FP >> False Positive >> Negative class got wrongly predicted as positive\n",
    "\n",
    "FN >> False Negative >> Positive class got wrongly predicted as Negative \n",
    "                        (Actual positive but predicted as negatiuve)"
   ]
  },
  {
   "cell_type": "markdown",
   "id": "0d427039",
   "metadata": {},
   "source": [
    "# 1.TPR"
   ]
  },
  {
   "cell_type": "code",
   "execution_count": null,
   "id": "d0e70f37",
   "metadata": {},
   "outputs": [],
   "source": [
    "TPR >> True Positive Rate\n",
    "TPR >> ROC Curve\n",
    "TPR >> Sensitivity >> Recall\n",
    "TP+FN >> Total Actual Positive Class data points\n",
    "TPR = TP/(TP+FN)\n",
    "\n",
    "TPR >> Proportion of Positive Class got Correctly classified by classifier"
   ]
  },
  {
   "cell_type": "markdown",
   "id": "d1d8df26",
   "metadata": {},
   "source": [
    "# 2.FNR"
   ]
  },
  {
   "cell_type": "code",
   "execution_count": null,
   "id": "1a301dfe",
   "metadata": {},
   "outputs": [],
   "source": [
    "FNR >> False Negative Rate\n",
    "\n",
    "FNR = FN/(TP + FN)\n",
    "\n",
    "FNR >> Proportion of Positive Class got InCorrectly classified by classifier"
   ]
  },
  {
   "cell_type": "markdown",
   "id": "0d81ee13",
   "metadata": {},
   "source": [
    "# 3.TNR"
   ]
  },
  {
   "cell_type": "code",
   "execution_count": null,
   "id": "d1dbd336",
   "metadata": {},
   "outputs": [],
   "source": [
    "TNR >> True Negative Rate\n",
    "TNR >> Specificity\n",
    "\n",
    "TN + FP >>> Total Actual Negative class data points\n",
    "\n",
    "TNR  = TN/(TN + FP)\n",
    "\n",
    "TNR >> Proportion of Negative Class got Correctly classified by classifier"
   ]
  },
  {
   "cell_type": "markdown",
   "id": "052c4b69",
   "metadata": {},
   "source": [
    "# 4.FPR"
   ]
  },
  {
   "cell_type": "code",
   "execution_count": null,
   "id": "09a2294d",
   "metadata": {},
   "outputs": [],
   "source": [
    " FPR >> False Positive Rate\n",
    "\n",
    "TN + FP >>> Total Actual Negative class data points\n",
    "\n",
    "TNR  = FP/(TN + FP)\n",
    "\n",
    "FNR >> Proportion of Negative Class got InCorrectly classified by classifier"
   ]
  }
 ],
 "metadata": {
  "kernelspec": {
   "display_name": "Python 3 (ipykernel)",
   "language": "python",
   "name": "python3"
  },
  "language_info": {
   "codemirror_mode": {
    "name": "ipython",
    "version": 3
   },
   "file_extension": ".py",
   "mimetype": "text/x-python",
   "name": "python",
   "nbconvert_exporter": "python",
   "pygments_lexer": "ipython3",
   "version": "3.9.12"
  }
 },
 "nbformat": 4,
 "nbformat_minor": 5
}
