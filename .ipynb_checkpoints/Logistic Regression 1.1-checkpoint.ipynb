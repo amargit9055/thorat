{
 "cells": [
  {
   "cell_type": "markdown",
   "id": "c184f6f0",
   "metadata": {},
   "source": [
    "# Logistic Regression"
   ]
  },
  {
   "cell_type": "code",
   "execution_count": null,
   "id": "676ef290",
   "metadata": {},
   "outputs": [],
   "source": [
    "It is supervised machine learning classification alogorithm which is used to predict probabilities\n",
    "of target variable\n",
    "\n",
    "It is porbabilistic ML algorithm\n",
    "\n",
    "Target variable >> Categorical\n",
    "\n",
    "yes/No\n",
    "True/False\n",
    "0/1\n",
    "High/medium/low\n",
    "good/bad"
   ]
  },
  {
   "cell_type": "markdown",
   "id": "806d56c5",
   "metadata": {},
   "source": [
    "# Types of LOgistic Regression"
   ]
  },
  {
   "cell_type": "code",
   "execution_count": null,
   "id": "c1741bc3",
   "metadata": {},
   "outputs": [],
   "source": [
    "1.Binary classification:\n",
    "    only two vales in target column (Dependent variable)\n",
    "    yes/No\n",
    "    True/False\n",
    "    0/1\n",
    "    good/bad\n",
    "    \n",
    "2.Multiclass Classification:\n",
    "    Three or more values in target column\n",
    "    \n",
    "    a) Multinomoial classificatio:\n",
    "        No order in data\n",
    "        Doc1-Doc2-Doc3\n",
    "        \n",
    "    b) Ordinal Classification:\n",
    "        Order present in data\n",
    "        \n",
    "        High-medium-low\n",
    "        movie ratings >> 1,2,3,4,5"
   ]
  }
 ],
 "metadata": {
  "kernelspec": {
   "display_name": "Python 3 (ipykernel)",
   "language": "python",
   "name": "python3"
  },
  "language_info": {
   "codemirror_mode": {
    "name": "ipython",
    "version": 3
   },
   "file_extension": ".py",
   "mimetype": "text/x-python",
   "name": "python",
   "nbconvert_exporter": "python",
   "pygments_lexer": "ipython3",
   "version": "3.9.12"
  }
 },
 "nbformat": 4,
 "nbformat_minor": 5
}
