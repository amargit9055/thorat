{
 "cells": [
  {
   "cell_type": "markdown",
   "id": "b371a1de",
   "metadata": {},
   "source": [
    "# Import Library"
   ]
  },
  {
   "cell_type": "code",
   "execution_count": 41,
   "id": "bc563d72",
   "metadata": {},
   "outputs": [],
   "source": [
    "import pandas as pd\n",
    "import numpy as np\n",
    "\n",
    "import matplotlib.pyplot as plt\n",
    "import seaborn as sns\n",
    "\n",
    "from  sklearn.linear_model import LogisticRegression\n",
    "from  sklearn.model_selection import train_test_split\n",
    "from  sklearn.metrics import confusion_matrix, multilabel_confusion_matrix\n",
    "from  sklearn.metrics import classification_report, accuracy_score\n",
    "from  sklearn.metrics import roc_curve,roc_auc_score\n",
    "\n",
    "import warnings\n",
    "warnings.filterwarnings(\"ignore\")"
   ]
  },
  {
   "cell_type": "markdown",
   "id": "b74c627f",
   "metadata": {},
   "source": [
    "# 1.Problem statement"
   ]
  },
  {
   "cell_type": "code",
   "execution_count": null,
   "id": "8e808b23",
   "metadata": {},
   "outputs": [],
   "source": [
    "To predict person is survived or not using variuos variables"
   ]
  },
  {
   "cell_type": "markdown",
   "id": "fbc61336",
   "metadata": {},
   "source": [
    "# 2.Data Gathering"
   ]
  },
  {
   "cell_type": "code",
   "execution_count": 2,
   "id": "5b09197a",
   "metadata": {
    "scrolled": false
   },
   "outputs": [
    {
     "data": {
      "text/html": [
       "<div>\n",
       "<style scoped>\n",
       "    .dataframe tbody tr th:only-of-type {\n",
       "        vertical-align: middle;\n",
       "    }\n",
       "\n",
       "    .dataframe tbody tr th {\n",
       "        vertical-align: top;\n",
       "    }\n",
       "\n",
       "    .dataframe thead th {\n",
       "        text-align: right;\n",
       "    }\n",
       "</style>\n",
       "<table border=\"1\" class=\"dataframe\">\n",
       "  <thead>\n",
       "    <tr style=\"text-align: right;\">\n",
       "      <th></th>\n",
       "      <th>PassengerId</th>\n",
       "      <th>Survived</th>\n",
       "      <th>Pclass</th>\n",
       "      <th>Name</th>\n",
       "      <th>Gender</th>\n",
       "      <th>Age</th>\n",
       "      <th>SibSp</th>\n",
       "      <th>Parch</th>\n",
       "      <th>Ticket</th>\n",
       "      <th>Fare</th>\n",
       "      <th>Cabin</th>\n",
       "      <th>Embarked</th>\n",
       "    </tr>\n",
       "  </thead>\n",
       "  <tbody>\n",
       "    <tr>\n",
       "      <th>0</th>\n",
       "      <td>1</td>\n",
       "      <td>0</td>\n",
       "      <td>3</td>\n",
       "      <td>Braund, Mr. Owen Harris</td>\n",
       "      <td>male</td>\n",
       "      <td>22.0</td>\n",
       "      <td>1</td>\n",
       "      <td>0</td>\n",
       "      <td>A/5 21171</td>\n",
       "      <td>7.2500</td>\n",
       "      <td>NaN</td>\n",
       "      <td>S</td>\n",
       "    </tr>\n",
       "    <tr>\n",
       "      <th>1</th>\n",
       "      <td>2</td>\n",
       "      <td>1</td>\n",
       "      <td>1</td>\n",
       "      <td>Cumings, Mrs. John Bradley (Florence Briggs Th...</td>\n",
       "      <td>female</td>\n",
       "      <td>38.0</td>\n",
       "      <td>1</td>\n",
       "      <td>0</td>\n",
       "      <td>PC 17599</td>\n",
       "      <td>71.2833</td>\n",
       "      <td>C85</td>\n",
       "      <td>C</td>\n",
       "    </tr>\n",
       "    <tr>\n",
       "      <th>2</th>\n",
       "      <td>3</td>\n",
       "      <td>1</td>\n",
       "      <td>3</td>\n",
       "      <td>Heikkinen, Miss. Laina</td>\n",
       "      <td>female</td>\n",
       "      <td>26.0</td>\n",
       "      <td>0</td>\n",
       "      <td>0</td>\n",
       "      <td>STON/O2. 3101282</td>\n",
       "      <td>7.9250</td>\n",
       "      <td>NaN</td>\n",
       "      <td>S</td>\n",
       "    </tr>\n",
       "    <tr>\n",
       "      <th>3</th>\n",
       "      <td>4</td>\n",
       "      <td>1</td>\n",
       "      <td>1</td>\n",
       "      <td>Futrelle, Mrs. Jacques Heath (Lily May Peel)</td>\n",
       "      <td>female</td>\n",
       "      <td>35.0</td>\n",
       "      <td>1</td>\n",
       "      <td>0</td>\n",
       "      <td>113803</td>\n",
       "      <td>53.1000</td>\n",
       "      <td>C123</td>\n",
       "      <td>S</td>\n",
       "    </tr>\n",
       "    <tr>\n",
       "      <th>4</th>\n",
       "      <td>5</td>\n",
       "      <td>0</td>\n",
       "      <td>3</td>\n",
       "      <td>Allen, Mr. William Henry</td>\n",
       "      <td>male</td>\n",
       "      <td>35.0</td>\n",
       "      <td>0</td>\n",
       "      <td>0</td>\n",
       "      <td>373450</td>\n",
       "      <td>8.0500</td>\n",
       "      <td>NaN</td>\n",
       "      <td>S</td>\n",
       "    </tr>\n",
       "    <tr>\n",
       "      <th>...</th>\n",
       "      <td>...</td>\n",
       "      <td>...</td>\n",
       "      <td>...</td>\n",
       "      <td>...</td>\n",
       "      <td>...</td>\n",
       "      <td>...</td>\n",
       "      <td>...</td>\n",
       "      <td>...</td>\n",
       "      <td>...</td>\n",
       "      <td>...</td>\n",
       "      <td>...</td>\n",
       "      <td>...</td>\n",
       "    </tr>\n",
       "    <tr>\n",
       "      <th>886</th>\n",
       "      <td>887</td>\n",
       "      <td>0</td>\n",
       "      <td>2</td>\n",
       "      <td>Montvila, Rev. Juozas</td>\n",
       "      <td>male</td>\n",
       "      <td>27.0</td>\n",
       "      <td>0</td>\n",
       "      <td>0</td>\n",
       "      <td>211536</td>\n",
       "      <td>13.0000</td>\n",
       "      <td>NaN</td>\n",
       "      <td>S</td>\n",
       "    </tr>\n",
       "    <tr>\n",
       "      <th>887</th>\n",
       "      <td>888</td>\n",
       "      <td>1</td>\n",
       "      <td>1</td>\n",
       "      <td>Graham, Miss. Margaret Edith</td>\n",
       "      <td>female</td>\n",
       "      <td>19.0</td>\n",
       "      <td>0</td>\n",
       "      <td>0</td>\n",
       "      <td>112053</td>\n",
       "      <td>30.0000</td>\n",
       "      <td>B42</td>\n",
       "      <td>S</td>\n",
       "    </tr>\n",
       "    <tr>\n",
       "      <th>888</th>\n",
       "      <td>889</td>\n",
       "      <td>0</td>\n",
       "      <td>3</td>\n",
       "      <td>Johnston, Miss. Catherine Helen \"Carrie\"</td>\n",
       "      <td>female</td>\n",
       "      <td>NaN</td>\n",
       "      <td>1</td>\n",
       "      <td>2</td>\n",
       "      <td>W./C. 6607</td>\n",
       "      <td>23.4500</td>\n",
       "      <td>NaN</td>\n",
       "      <td>S</td>\n",
       "    </tr>\n",
       "    <tr>\n",
       "      <th>889</th>\n",
       "      <td>890</td>\n",
       "      <td>1</td>\n",
       "      <td>1</td>\n",
       "      <td>Behr, Mr. Karl Howell</td>\n",
       "      <td>male</td>\n",
       "      <td>26.0</td>\n",
       "      <td>0</td>\n",
       "      <td>0</td>\n",
       "      <td>111369</td>\n",
       "      <td>30.0000</td>\n",
       "      <td>C148</td>\n",
       "      <td>C</td>\n",
       "    </tr>\n",
       "    <tr>\n",
       "      <th>890</th>\n",
       "      <td>891</td>\n",
       "      <td>0</td>\n",
       "      <td>3</td>\n",
       "      <td>Dooley, Mr. Patrick</td>\n",
       "      <td>male</td>\n",
       "      <td>32.0</td>\n",
       "      <td>0</td>\n",
       "      <td>0</td>\n",
       "      <td>370376</td>\n",
       "      <td>7.7500</td>\n",
       "      <td>NaN</td>\n",
       "      <td>Q</td>\n",
       "    </tr>\n",
       "  </tbody>\n",
       "</table>\n",
       "<p>891 rows × 12 columns</p>\n",
       "</div>"
      ],
      "text/plain": [
       "     PassengerId  Survived  Pclass  \\\n",
       "0              1         0       3   \n",
       "1              2         1       1   \n",
       "2              3         1       3   \n",
       "3              4         1       1   \n",
       "4              5         0       3   \n",
       "..           ...       ...     ...   \n",
       "886          887         0       2   \n",
       "887          888         1       1   \n",
       "888          889         0       3   \n",
       "889          890         1       1   \n",
       "890          891         0       3   \n",
       "\n",
       "                                                  Name  Gender   Age  SibSp  \\\n",
       "0                              Braund, Mr. Owen Harris    male  22.0      1   \n",
       "1    Cumings, Mrs. John Bradley (Florence Briggs Th...  female  38.0      1   \n",
       "2                               Heikkinen, Miss. Laina  female  26.0      0   \n",
       "3         Futrelle, Mrs. Jacques Heath (Lily May Peel)  female  35.0      1   \n",
       "4                             Allen, Mr. William Henry    male  35.0      0   \n",
       "..                                                 ...     ...   ...    ...   \n",
       "886                              Montvila, Rev. Juozas    male  27.0      0   \n",
       "887                       Graham, Miss. Margaret Edith  female  19.0      0   \n",
       "888           Johnston, Miss. Catherine Helen \"Carrie\"  female   NaN      1   \n",
       "889                              Behr, Mr. Karl Howell    male  26.0      0   \n",
       "890                                Dooley, Mr. Patrick    male  32.0      0   \n",
       "\n",
       "     Parch            Ticket     Fare Cabin Embarked  \n",
       "0        0         A/5 21171   7.2500   NaN        S  \n",
       "1        0          PC 17599  71.2833   C85        C  \n",
       "2        0  STON/O2. 3101282   7.9250   NaN        S  \n",
       "3        0            113803  53.1000  C123        S  \n",
       "4        0            373450   8.0500   NaN        S  \n",
       "..     ...               ...      ...   ...      ...  \n",
       "886      0            211536  13.0000   NaN        S  \n",
       "887      0            112053  30.0000   B42        S  \n",
       "888      2        W./C. 6607  23.4500   NaN        S  \n",
       "889      0            111369  30.0000  C148        C  \n",
       "890      0            370376   7.7500   NaN        Q  \n",
       "\n",
       "[891 rows x 12 columns]"
      ]
     },
     "execution_count": 2,
     "metadata": {},
     "output_type": "execute_result"
    }
   ],
   "source": [
    "df = pd.read_csv(\"titanic.csv\")\n",
    "df"
   ]
  },
  {
   "cell_type": "markdown",
   "id": "a6c6d9b2",
   "metadata": {},
   "source": [
    "# 3.EDA"
   ]
  },
  {
   "cell_type": "code",
   "execution_count": 3,
   "id": "06476a27",
   "metadata": {},
   "outputs": [
    {
     "name": "stdout",
     "output_type": "stream",
     "text": [
      "<class 'pandas.core.frame.DataFrame'>\n",
      "RangeIndex: 891 entries, 0 to 890\n",
      "Data columns (total 12 columns):\n",
      " #   Column       Non-Null Count  Dtype  \n",
      "---  ------       --------------  -----  \n",
      " 0   PassengerId  891 non-null    int64  \n",
      " 1   Survived     891 non-null    int64  \n",
      " 2   Pclass       891 non-null    int64  \n",
      " 3   Name         891 non-null    object \n",
      " 4   Gender       891 non-null    object \n",
      " 5   Age          714 non-null    float64\n",
      " 6   SibSp        891 non-null    int64  \n",
      " 7   Parch        891 non-null    int64  \n",
      " 8   Ticket       891 non-null    object \n",
      " 9   Fare         891 non-null    float64\n",
      " 10  Cabin        204 non-null    object \n",
      " 11  Embarked     889 non-null    object \n",
      "dtypes: float64(2), int64(5), object(5)\n",
      "memory usage: 83.7+ KB\n"
     ]
    }
   ],
   "source": [
    "df.info()"
   ]
  },
  {
   "cell_type": "code",
   "execution_count": 4,
   "id": "efc947f0",
   "metadata": {},
   "outputs": [
    {
     "data": {
      "text/plain": [
       "891"
      ]
     },
     "execution_count": 4,
     "metadata": {},
     "output_type": "execute_result"
    }
   ],
   "source": [
    "df['PassengerId'].nunique()"
   ]
  },
  {
   "cell_type": "code",
   "execution_count": 5,
   "id": "4795496f",
   "metadata": {},
   "outputs": [
    {
     "data": {
      "text/plain": [
       "891"
      ]
     },
     "execution_count": 5,
     "metadata": {},
     "output_type": "execute_result"
    }
   ],
   "source": [
    "df['Name'].nunique()"
   ]
  },
  {
   "cell_type": "code",
   "execution_count": 6,
   "id": "3fd5a584",
   "metadata": {},
   "outputs": [
    {
     "data": {
      "text/plain": [
       "PassengerId    891\n",
       "Survived         2\n",
       "Pclass           3\n",
       "Name           891\n",
       "Gender           2\n",
       "Age             88\n",
       "SibSp            7\n",
       "Parch            7\n",
       "Ticket         681\n",
       "Fare           248\n",
       "Cabin          147\n",
       "Embarked         3\n",
       "dtype: int64"
      ]
     },
     "execution_count": 6,
     "metadata": {},
     "output_type": "execute_result"
    }
   ],
   "source": [
    "df.nunique()"
   ]
  },
  {
   "cell_type": "code",
   "execution_count": 7,
   "id": "dfa89f91",
   "metadata": {},
   "outputs": [
    {
     "data": {
      "text/plain": [
       "Index(['PassengerId', 'Survived', 'Pclass', 'Name', 'Gender', 'Age', 'SibSp',\n",
       "       'Parch', 'Ticket', 'Fare', 'Cabin', 'Embarked'],\n",
       "      dtype='object')"
      ]
     },
     "execution_count": 7,
     "metadata": {},
     "output_type": "execute_result"
    }
   ],
   "source": [
    "df.columns"
   ]
  },
  {
   "cell_type": "code",
   "execution_count": 8,
   "id": "541a6c35",
   "metadata": {},
   "outputs": [],
   "source": [
    "column_list=['PassengerId','Name','Ticket','Cabin']\n",
    "\n",
    "df.drop(column_list,axis=1,inplace=True)"
   ]
  },
  {
   "cell_type": "code",
   "execution_count": 9,
   "id": "3280e93e",
   "metadata": {},
   "outputs": [
    {
     "data": {
      "text/html": [
       "<div>\n",
       "<style scoped>\n",
       "    .dataframe tbody tr th:only-of-type {\n",
       "        vertical-align: middle;\n",
       "    }\n",
       "\n",
       "    .dataframe tbody tr th {\n",
       "        vertical-align: top;\n",
       "    }\n",
       "\n",
       "    .dataframe thead th {\n",
       "        text-align: right;\n",
       "    }\n",
       "</style>\n",
       "<table border=\"1\" class=\"dataframe\">\n",
       "  <thead>\n",
       "    <tr style=\"text-align: right;\">\n",
       "      <th></th>\n",
       "      <th>Survived</th>\n",
       "      <th>Pclass</th>\n",
       "      <th>Gender</th>\n",
       "      <th>Age</th>\n",
       "      <th>SibSp</th>\n",
       "      <th>Parch</th>\n",
       "      <th>Fare</th>\n",
       "      <th>Embarked</th>\n",
       "    </tr>\n",
       "  </thead>\n",
       "  <tbody>\n",
       "    <tr>\n",
       "      <th>0</th>\n",
       "      <td>0</td>\n",
       "      <td>3</td>\n",
       "      <td>male</td>\n",
       "      <td>22.0</td>\n",
       "      <td>1</td>\n",
       "      <td>0</td>\n",
       "      <td>7.2500</td>\n",
       "      <td>S</td>\n",
       "    </tr>\n",
       "    <tr>\n",
       "      <th>1</th>\n",
       "      <td>1</td>\n",
       "      <td>1</td>\n",
       "      <td>female</td>\n",
       "      <td>38.0</td>\n",
       "      <td>1</td>\n",
       "      <td>0</td>\n",
       "      <td>71.2833</td>\n",
       "      <td>C</td>\n",
       "    </tr>\n",
       "    <tr>\n",
       "      <th>2</th>\n",
       "      <td>1</td>\n",
       "      <td>3</td>\n",
       "      <td>female</td>\n",
       "      <td>26.0</td>\n",
       "      <td>0</td>\n",
       "      <td>0</td>\n",
       "      <td>7.9250</td>\n",
       "      <td>S</td>\n",
       "    </tr>\n",
       "    <tr>\n",
       "      <th>3</th>\n",
       "      <td>1</td>\n",
       "      <td>1</td>\n",
       "      <td>female</td>\n",
       "      <td>35.0</td>\n",
       "      <td>1</td>\n",
       "      <td>0</td>\n",
       "      <td>53.1000</td>\n",
       "      <td>S</td>\n",
       "    </tr>\n",
       "    <tr>\n",
       "      <th>4</th>\n",
       "      <td>0</td>\n",
       "      <td>3</td>\n",
       "      <td>male</td>\n",
       "      <td>35.0</td>\n",
       "      <td>0</td>\n",
       "      <td>0</td>\n",
       "      <td>8.0500</td>\n",
       "      <td>S</td>\n",
       "    </tr>\n",
       "    <tr>\n",
       "      <th>...</th>\n",
       "      <td>...</td>\n",
       "      <td>...</td>\n",
       "      <td>...</td>\n",
       "      <td>...</td>\n",
       "      <td>...</td>\n",
       "      <td>...</td>\n",
       "      <td>...</td>\n",
       "      <td>...</td>\n",
       "    </tr>\n",
       "    <tr>\n",
       "      <th>886</th>\n",
       "      <td>0</td>\n",
       "      <td>2</td>\n",
       "      <td>male</td>\n",
       "      <td>27.0</td>\n",
       "      <td>0</td>\n",
       "      <td>0</td>\n",
       "      <td>13.0000</td>\n",
       "      <td>S</td>\n",
       "    </tr>\n",
       "    <tr>\n",
       "      <th>887</th>\n",
       "      <td>1</td>\n",
       "      <td>1</td>\n",
       "      <td>female</td>\n",
       "      <td>19.0</td>\n",
       "      <td>0</td>\n",
       "      <td>0</td>\n",
       "      <td>30.0000</td>\n",
       "      <td>S</td>\n",
       "    </tr>\n",
       "    <tr>\n",
       "      <th>888</th>\n",
       "      <td>0</td>\n",
       "      <td>3</td>\n",
       "      <td>female</td>\n",
       "      <td>NaN</td>\n",
       "      <td>1</td>\n",
       "      <td>2</td>\n",
       "      <td>23.4500</td>\n",
       "      <td>S</td>\n",
       "    </tr>\n",
       "    <tr>\n",
       "      <th>889</th>\n",
       "      <td>1</td>\n",
       "      <td>1</td>\n",
       "      <td>male</td>\n",
       "      <td>26.0</td>\n",
       "      <td>0</td>\n",
       "      <td>0</td>\n",
       "      <td>30.0000</td>\n",
       "      <td>C</td>\n",
       "    </tr>\n",
       "    <tr>\n",
       "      <th>890</th>\n",
       "      <td>0</td>\n",
       "      <td>3</td>\n",
       "      <td>male</td>\n",
       "      <td>32.0</td>\n",
       "      <td>0</td>\n",
       "      <td>0</td>\n",
       "      <td>7.7500</td>\n",
       "      <td>Q</td>\n",
       "    </tr>\n",
       "  </tbody>\n",
       "</table>\n",
       "<p>891 rows × 8 columns</p>\n",
       "</div>"
      ],
      "text/plain": [
       "     Survived  Pclass  Gender   Age  SibSp  Parch     Fare Embarked\n",
       "0           0       3    male  22.0      1      0   7.2500        S\n",
       "1           1       1  female  38.0      1      0  71.2833        C\n",
       "2           1       3  female  26.0      0      0   7.9250        S\n",
       "3           1       1  female  35.0      1      0  53.1000        S\n",
       "4           0       3    male  35.0      0      0   8.0500        S\n",
       "..        ...     ...     ...   ...    ...    ...      ...      ...\n",
       "886         0       2    male  27.0      0      0  13.0000        S\n",
       "887         1       1  female  19.0      0      0  30.0000        S\n",
       "888         0       3  female   NaN      1      2  23.4500        S\n",
       "889         1       1    male  26.0      0      0  30.0000        C\n",
       "890         0       3    male  32.0      0      0   7.7500        Q\n",
       "\n",
       "[891 rows x 8 columns]"
      ]
     },
     "execution_count": 9,
     "metadata": {},
     "output_type": "execute_result"
    }
   ],
   "source": [
    "df"
   ]
  },
  {
   "cell_type": "code",
   "execution_count": 10,
   "id": "8f1ab1d5",
   "metadata": {},
   "outputs": [
    {
     "data": {
      "text/plain": [
       "male      577\n",
       "female    314\n",
       "Name: Gender, dtype: int64"
      ]
     },
     "execution_count": 10,
     "metadata": {},
     "output_type": "execute_result"
    }
   ],
   "source": [
    "df['Gender'].value_counts()"
   ]
  },
  {
   "cell_type": "code",
   "execution_count": 11,
   "id": "8f604925",
   "metadata": {},
   "outputs": [],
   "source": [
    "df['Gender'].replace({'male':0,'female':1},inplace=True)"
   ]
  },
  {
   "cell_type": "code",
   "execution_count": 12,
   "id": "45f35a48",
   "metadata": {},
   "outputs": [
    {
     "data": {
      "text/plain": [
       "S    644\n",
       "C    168\n",
       "Q     77\n",
       "Name: Embarked, dtype: int64"
      ]
     },
     "execution_count": 12,
     "metadata": {},
     "output_type": "execute_result"
    }
   ],
   "source": [
    "df['Embarked'].value_counts()"
   ]
  },
  {
   "cell_type": "code",
   "execution_count": 13,
   "id": "4fd64445",
   "metadata": {},
   "outputs": [
    {
     "data": {
      "text/html": [
       "<div>\n",
       "<style scoped>\n",
       "    .dataframe tbody tr th:only-of-type {\n",
       "        vertical-align: middle;\n",
       "    }\n",
       "\n",
       "    .dataframe tbody tr th {\n",
       "        vertical-align: top;\n",
       "    }\n",
       "\n",
       "    .dataframe thead th {\n",
       "        text-align: right;\n",
       "    }\n",
       "</style>\n",
       "<table border=\"1\" class=\"dataframe\">\n",
       "  <thead>\n",
       "    <tr style=\"text-align: right;\">\n",
       "      <th></th>\n",
       "      <th>C</th>\n",
       "      <th>Q</th>\n",
       "      <th>S</th>\n",
       "    </tr>\n",
       "  </thead>\n",
       "  <tbody>\n",
       "    <tr>\n",
       "      <th>0</th>\n",
       "      <td>0</td>\n",
       "      <td>0</td>\n",
       "      <td>1</td>\n",
       "    </tr>\n",
       "    <tr>\n",
       "      <th>1</th>\n",
       "      <td>1</td>\n",
       "      <td>0</td>\n",
       "      <td>0</td>\n",
       "    </tr>\n",
       "    <tr>\n",
       "      <th>2</th>\n",
       "      <td>0</td>\n",
       "      <td>0</td>\n",
       "      <td>1</td>\n",
       "    </tr>\n",
       "    <tr>\n",
       "      <th>3</th>\n",
       "      <td>0</td>\n",
       "      <td>0</td>\n",
       "      <td>1</td>\n",
       "    </tr>\n",
       "    <tr>\n",
       "      <th>4</th>\n",
       "      <td>0</td>\n",
       "      <td>0</td>\n",
       "      <td>1</td>\n",
       "    </tr>\n",
       "    <tr>\n",
       "      <th>...</th>\n",
       "      <td>...</td>\n",
       "      <td>...</td>\n",
       "      <td>...</td>\n",
       "    </tr>\n",
       "    <tr>\n",
       "      <th>886</th>\n",
       "      <td>0</td>\n",
       "      <td>0</td>\n",
       "      <td>1</td>\n",
       "    </tr>\n",
       "    <tr>\n",
       "      <th>887</th>\n",
       "      <td>0</td>\n",
       "      <td>0</td>\n",
       "      <td>1</td>\n",
       "    </tr>\n",
       "    <tr>\n",
       "      <th>888</th>\n",
       "      <td>0</td>\n",
       "      <td>0</td>\n",
       "      <td>1</td>\n",
       "    </tr>\n",
       "    <tr>\n",
       "      <th>889</th>\n",
       "      <td>1</td>\n",
       "      <td>0</td>\n",
       "      <td>0</td>\n",
       "    </tr>\n",
       "    <tr>\n",
       "      <th>890</th>\n",
       "      <td>0</td>\n",
       "      <td>1</td>\n",
       "      <td>0</td>\n",
       "    </tr>\n",
       "  </tbody>\n",
       "</table>\n",
       "<p>891 rows × 3 columns</p>\n",
       "</div>"
      ],
      "text/plain": [
       "     C  Q  S\n",
       "0    0  0  1\n",
       "1    1  0  0\n",
       "2    0  0  1\n",
       "3    0  0  1\n",
       "4    0  0  1\n",
       "..  .. .. ..\n",
       "886  0  0  1\n",
       "887  0  0  1\n",
       "888  0  0  1\n",
       "889  1  0  0\n",
       "890  0  1  0\n",
       "\n",
       "[891 rows x 3 columns]"
      ]
     },
     "execution_count": 13,
     "metadata": {},
     "output_type": "execute_result"
    }
   ],
   "source": [
    "df_embarkes = pd.get_dummies(df[\"Embarked\"])\n",
    "df_embarkes"
   ]
  },
  {
   "cell_type": "code",
   "execution_count": 14,
   "id": "4566c9cb",
   "metadata": {},
   "outputs": [],
   "source": [
    "df= pd.concat([df,df_embarkes],axis=1)"
   ]
  },
  {
   "cell_type": "code",
   "execution_count": 15,
   "id": "7f5c51b8",
   "metadata": {},
   "outputs": [
    {
     "data": {
      "text/html": [
       "<div>\n",
       "<style scoped>\n",
       "    .dataframe tbody tr th:only-of-type {\n",
       "        vertical-align: middle;\n",
       "    }\n",
       "\n",
       "    .dataframe tbody tr th {\n",
       "        vertical-align: top;\n",
       "    }\n",
       "\n",
       "    .dataframe thead th {\n",
       "        text-align: right;\n",
       "    }\n",
       "</style>\n",
       "<table border=\"1\" class=\"dataframe\">\n",
       "  <thead>\n",
       "    <tr style=\"text-align: right;\">\n",
       "      <th></th>\n",
       "      <th>Survived</th>\n",
       "      <th>Pclass</th>\n",
       "      <th>Gender</th>\n",
       "      <th>Age</th>\n",
       "      <th>SibSp</th>\n",
       "      <th>Parch</th>\n",
       "      <th>Fare</th>\n",
       "      <th>Embarked</th>\n",
       "      <th>C</th>\n",
       "      <th>Q</th>\n",
       "      <th>S</th>\n",
       "    </tr>\n",
       "  </thead>\n",
       "  <tbody>\n",
       "    <tr>\n",
       "      <th>0</th>\n",
       "      <td>0</td>\n",
       "      <td>3</td>\n",
       "      <td>0</td>\n",
       "      <td>22.0</td>\n",
       "      <td>1</td>\n",
       "      <td>0</td>\n",
       "      <td>7.2500</td>\n",
       "      <td>S</td>\n",
       "      <td>0</td>\n",
       "      <td>0</td>\n",
       "      <td>1</td>\n",
       "    </tr>\n",
       "    <tr>\n",
       "      <th>1</th>\n",
       "      <td>1</td>\n",
       "      <td>1</td>\n",
       "      <td>1</td>\n",
       "      <td>38.0</td>\n",
       "      <td>1</td>\n",
       "      <td>0</td>\n",
       "      <td>71.2833</td>\n",
       "      <td>C</td>\n",
       "      <td>1</td>\n",
       "      <td>0</td>\n",
       "      <td>0</td>\n",
       "    </tr>\n",
       "    <tr>\n",
       "      <th>2</th>\n",
       "      <td>1</td>\n",
       "      <td>3</td>\n",
       "      <td>1</td>\n",
       "      <td>26.0</td>\n",
       "      <td>0</td>\n",
       "      <td>0</td>\n",
       "      <td>7.9250</td>\n",
       "      <td>S</td>\n",
       "      <td>0</td>\n",
       "      <td>0</td>\n",
       "      <td>1</td>\n",
       "    </tr>\n",
       "    <tr>\n",
       "      <th>3</th>\n",
       "      <td>1</td>\n",
       "      <td>1</td>\n",
       "      <td>1</td>\n",
       "      <td>35.0</td>\n",
       "      <td>1</td>\n",
       "      <td>0</td>\n",
       "      <td>53.1000</td>\n",
       "      <td>S</td>\n",
       "      <td>0</td>\n",
       "      <td>0</td>\n",
       "      <td>1</td>\n",
       "    </tr>\n",
       "    <tr>\n",
       "      <th>4</th>\n",
       "      <td>0</td>\n",
       "      <td>3</td>\n",
       "      <td>0</td>\n",
       "      <td>35.0</td>\n",
       "      <td>0</td>\n",
       "      <td>0</td>\n",
       "      <td>8.0500</td>\n",
       "      <td>S</td>\n",
       "      <td>0</td>\n",
       "      <td>0</td>\n",
       "      <td>1</td>\n",
       "    </tr>\n",
       "    <tr>\n",
       "      <th>...</th>\n",
       "      <td>...</td>\n",
       "      <td>...</td>\n",
       "      <td>...</td>\n",
       "      <td>...</td>\n",
       "      <td>...</td>\n",
       "      <td>...</td>\n",
       "      <td>...</td>\n",
       "      <td>...</td>\n",
       "      <td>...</td>\n",
       "      <td>...</td>\n",
       "      <td>...</td>\n",
       "    </tr>\n",
       "    <tr>\n",
       "      <th>886</th>\n",
       "      <td>0</td>\n",
       "      <td>2</td>\n",
       "      <td>0</td>\n",
       "      <td>27.0</td>\n",
       "      <td>0</td>\n",
       "      <td>0</td>\n",
       "      <td>13.0000</td>\n",
       "      <td>S</td>\n",
       "      <td>0</td>\n",
       "      <td>0</td>\n",
       "      <td>1</td>\n",
       "    </tr>\n",
       "    <tr>\n",
       "      <th>887</th>\n",
       "      <td>1</td>\n",
       "      <td>1</td>\n",
       "      <td>1</td>\n",
       "      <td>19.0</td>\n",
       "      <td>0</td>\n",
       "      <td>0</td>\n",
       "      <td>30.0000</td>\n",
       "      <td>S</td>\n",
       "      <td>0</td>\n",
       "      <td>0</td>\n",
       "      <td>1</td>\n",
       "    </tr>\n",
       "    <tr>\n",
       "      <th>888</th>\n",
       "      <td>0</td>\n",
       "      <td>3</td>\n",
       "      <td>1</td>\n",
       "      <td>NaN</td>\n",
       "      <td>1</td>\n",
       "      <td>2</td>\n",
       "      <td>23.4500</td>\n",
       "      <td>S</td>\n",
       "      <td>0</td>\n",
       "      <td>0</td>\n",
       "      <td>1</td>\n",
       "    </tr>\n",
       "    <tr>\n",
       "      <th>889</th>\n",
       "      <td>1</td>\n",
       "      <td>1</td>\n",
       "      <td>0</td>\n",
       "      <td>26.0</td>\n",
       "      <td>0</td>\n",
       "      <td>0</td>\n",
       "      <td>30.0000</td>\n",
       "      <td>C</td>\n",
       "      <td>1</td>\n",
       "      <td>0</td>\n",
       "      <td>0</td>\n",
       "    </tr>\n",
       "    <tr>\n",
       "      <th>890</th>\n",
       "      <td>0</td>\n",
       "      <td>3</td>\n",
       "      <td>0</td>\n",
       "      <td>32.0</td>\n",
       "      <td>0</td>\n",
       "      <td>0</td>\n",
       "      <td>7.7500</td>\n",
       "      <td>Q</td>\n",
       "      <td>0</td>\n",
       "      <td>1</td>\n",
       "      <td>0</td>\n",
       "    </tr>\n",
       "  </tbody>\n",
       "</table>\n",
       "<p>891 rows × 11 columns</p>\n",
       "</div>"
      ],
      "text/plain": [
       "     Survived  Pclass  Gender   Age  SibSp  Parch     Fare Embarked  C  Q  S\n",
       "0           0       3       0  22.0      1      0   7.2500        S  0  0  1\n",
       "1           1       1       1  38.0      1      0  71.2833        C  1  0  0\n",
       "2           1       3       1  26.0      0      0   7.9250        S  0  0  1\n",
       "3           1       1       1  35.0      1      0  53.1000        S  0  0  1\n",
       "4           0       3       0  35.0      0      0   8.0500        S  0  0  1\n",
       "..        ...     ...     ...   ...    ...    ...      ...      ... .. .. ..\n",
       "886         0       2       0  27.0      0      0  13.0000        S  0  0  1\n",
       "887         1       1       1  19.0      0      0  30.0000        S  0  0  1\n",
       "888         0       3       1   NaN      1      2  23.4500        S  0  0  1\n",
       "889         1       1       0  26.0      0      0  30.0000        C  1  0  0\n",
       "890         0       3       0  32.0      0      0   7.7500        Q  0  1  0\n",
       "\n",
       "[891 rows x 11 columns]"
      ]
     },
     "execution_count": 15,
     "metadata": {},
     "output_type": "execute_result"
    }
   ],
   "source": [
    "df"
   ]
  },
  {
   "cell_type": "code",
   "execution_count": 16,
   "id": "8897bb4d",
   "metadata": {},
   "outputs": [],
   "source": [
    "df.drop(\"Embarked\",axis=1,inplace=True)"
   ]
  },
  {
   "cell_type": "code",
   "execution_count": 17,
   "id": "a0d60d9b",
   "metadata": {},
   "outputs": [
    {
     "data": {
      "text/html": [
       "<div>\n",
       "<style scoped>\n",
       "    .dataframe tbody tr th:only-of-type {\n",
       "        vertical-align: middle;\n",
       "    }\n",
       "\n",
       "    .dataframe tbody tr th {\n",
       "        vertical-align: top;\n",
       "    }\n",
       "\n",
       "    .dataframe thead th {\n",
       "        text-align: right;\n",
       "    }\n",
       "</style>\n",
       "<table border=\"1\" class=\"dataframe\">\n",
       "  <thead>\n",
       "    <tr style=\"text-align: right;\">\n",
       "      <th></th>\n",
       "      <th>Survived</th>\n",
       "      <th>Pclass</th>\n",
       "      <th>Gender</th>\n",
       "      <th>Age</th>\n",
       "      <th>SibSp</th>\n",
       "      <th>Parch</th>\n",
       "      <th>Fare</th>\n",
       "      <th>C</th>\n",
       "      <th>Q</th>\n",
       "      <th>S</th>\n",
       "    </tr>\n",
       "  </thead>\n",
       "  <tbody>\n",
       "    <tr>\n",
       "      <th>0</th>\n",
       "      <td>0</td>\n",
       "      <td>3</td>\n",
       "      <td>0</td>\n",
       "      <td>22.0</td>\n",
       "      <td>1</td>\n",
       "      <td>0</td>\n",
       "      <td>7.2500</td>\n",
       "      <td>0</td>\n",
       "      <td>0</td>\n",
       "      <td>1</td>\n",
       "    </tr>\n",
       "    <tr>\n",
       "      <th>1</th>\n",
       "      <td>1</td>\n",
       "      <td>1</td>\n",
       "      <td>1</td>\n",
       "      <td>38.0</td>\n",
       "      <td>1</td>\n",
       "      <td>0</td>\n",
       "      <td>71.2833</td>\n",
       "      <td>1</td>\n",
       "      <td>0</td>\n",
       "      <td>0</td>\n",
       "    </tr>\n",
       "    <tr>\n",
       "      <th>2</th>\n",
       "      <td>1</td>\n",
       "      <td>3</td>\n",
       "      <td>1</td>\n",
       "      <td>26.0</td>\n",
       "      <td>0</td>\n",
       "      <td>0</td>\n",
       "      <td>7.9250</td>\n",
       "      <td>0</td>\n",
       "      <td>0</td>\n",
       "      <td>1</td>\n",
       "    </tr>\n",
       "    <tr>\n",
       "      <th>3</th>\n",
       "      <td>1</td>\n",
       "      <td>1</td>\n",
       "      <td>1</td>\n",
       "      <td>35.0</td>\n",
       "      <td>1</td>\n",
       "      <td>0</td>\n",
       "      <td>53.1000</td>\n",
       "      <td>0</td>\n",
       "      <td>0</td>\n",
       "      <td>1</td>\n",
       "    </tr>\n",
       "    <tr>\n",
       "      <th>4</th>\n",
       "      <td>0</td>\n",
       "      <td>3</td>\n",
       "      <td>0</td>\n",
       "      <td>35.0</td>\n",
       "      <td>0</td>\n",
       "      <td>0</td>\n",
       "      <td>8.0500</td>\n",
       "      <td>0</td>\n",
       "      <td>0</td>\n",
       "      <td>1</td>\n",
       "    </tr>\n",
       "    <tr>\n",
       "      <th>...</th>\n",
       "      <td>...</td>\n",
       "      <td>...</td>\n",
       "      <td>...</td>\n",
       "      <td>...</td>\n",
       "      <td>...</td>\n",
       "      <td>...</td>\n",
       "      <td>...</td>\n",
       "      <td>...</td>\n",
       "      <td>...</td>\n",
       "      <td>...</td>\n",
       "    </tr>\n",
       "    <tr>\n",
       "      <th>886</th>\n",
       "      <td>0</td>\n",
       "      <td>2</td>\n",
       "      <td>0</td>\n",
       "      <td>27.0</td>\n",
       "      <td>0</td>\n",
       "      <td>0</td>\n",
       "      <td>13.0000</td>\n",
       "      <td>0</td>\n",
       "      <td>0</td>\n",
       "      <td>1</td>\n",
       "    </tr>\n",
       "    <tr>\n",
       "      <th>887</th>\n",
       "      <td>1</td>\n",
       "      <td>1</td>\n",
       "      <td>1</td>\n",
       "      <td>19.0</td>\n",
       "      <td>0</td>\n",
       "      <td>0</td>\n",
       "      <td>30.0000</td>\n",
       "      <td>0</td>\n",
       "      <td>0</td>\n",
       "      <td>1</td>\n",
       "    </tr>\n",
       "    <tr>\n",
       "      <th>888</th>\n",
       "      <td>0</td>\n",
       "      <td>3</td>\n",
       "      <td>1</td>\n",
       "      <td>NaN</td>\n",
       "      <td>1</td>\n",
       "      <td>2</td>\n",
       "      <td>23.4500</td>\n",
       "      <td>0</td>\n",
       "      <td>0</td>\n",
       "      <td>1</td>\n",
       "    </tr>\n",
       "    <tr>\n",
       "      <th>889</th>\n",
       "      <td>1</td>\n",
       "      <td>1</td>\n",
       "      <td>0</td>\n",
       "      <td>26.0</td>\n",
       "      <td>0</td>\n",
       "      <td>0</td>\n",
       "      <td>30.0000</td>\n",
       "      <td>1</td>\n",
       "      <td>0</td>\n",
       "      <td>0</td>\n",
       "    </tr>\n",
       "    <tr>\n",
       "      <th>890</th>\n",
       "      <td>0</td>\n",
       "      <td>3</td>\n",
       "      <td>0</td>\n",
       "      <td>32.0</td>\n",
       "      <td>0</td>\n",
       "      <td>0</td>\n",
       "      <td>7.7500</td>\n",
       "      <td>0</td>\n",
       "      <td>1</td>\n",
       "      <td>0</td>\n",
       "    </tr>\n",
       "  </tbody>\n",
       "</table>\n",
       "<p>891 rows × 10 columns</p>\n",
       "</div>"
      ],
      "text/plain": [
       "     Survived  Pclass  Gender   Age  SibSp  Parch     Fare  C  Q  S\n",
       "0           0       3       0  22.0      1      0   7.2500  0  0  1\n",
       "1           1       1       1  38.0      1      0  71.2833  1  0  0\n",
       "2           1       3       1  26.0      0      0   7.9250  0  0  1\n",
       "3           1       1       1  35.0      1      0  53.1000  0  0  1\n",
       "4           0       3       0  35.0      0      0   8.0500  0  0  1\n",
       "..        ...     ...     ...   ...    ...    ...      ... .. .. ..\n",
       "886         0       2       0  27.0      0      0  13.0000  0  0  1\n",
       "887         1       1       1  19.0      0      0  30.0000  0  0  1\n",
       "888         0       3       1   NaN      1      2  23.4500  0  0  1\n",
       "889         1       1       0  26.0      0      0  30.0000  1  0  0\n",
       "890         0       3       0  32.0      0      0   7.7500  0  1  0\n",
       "\n",
       "[891 rows x 10 columns]"
      ]
     },
     "execution_count": 17,
     "metadata": {},
     "output_type": "execute_result"
    }
   ],
   "source": [
    "df"
   ]
  },
  {
   "cell_type": "code",
   "execution_count": 18,
   "id": "57822632",
   "metadata": {},
   "outputs": [
    {
     "data": {
      "text/html": [
       "<div>\n",
       "<style scoped>\n",
       "    .dataframe tbody tr th:only-of-type {\n",
       "        vertical-align: middle;\n",
       "    }\n",
       "\n",
       "    .dataframe tbody tr th {\n",
       "        vertical-align: top;\n",
       "    }\n",
       "\n",
       "    .dataframe thead th {\n",
       "        text-align: right;\n",
       "    }\n",
       "</style>\n",
       "<table border=\"1\" class=\"dataframe\">\n",
       "  <thead>\n",
       "    <tr style=\"text-align: right;\">\n",
       "      <th></th>\n",
       "      <th>Survived</th>\n",
       "      <th>Pclass</th>\n",
       "      <th>Gender</th>\n",
       "      <th>Age</th>\n",
       "      <th>SibSp</th>\n",
       "      <th>Parch</th>\n",
       "      <th>Fare</th>\n",
       "      <th>C</th>\n",
       "      <th>Q</th>\n",
       "      <th>S</th>\n",
       "    </tr>\n",
       "  </thead>\n",
       "  <tbody>\n",
       "    <tr>\n",
       "      <th>count</th>\n",
       "      <td>891.000000</td>\n",
       "      <td>891.000000</td>\n",
       "      <td>891.000000</td>\n",
       "      <td>714.000000</td>\n",
       "      <td>891.000000</td>\n",
       "      <td>891.000000</td>\n",
       "      <td>891.000000</td>\n",
       "      <td>891.000000</td>\n",
       "      <td>891.000000</td>\n",
       "      <td>891.000000</td>\n",
       "    </tr>\n",
       "    <tr>\n",
       "      <th>mean</th>\n",
       "      <td>0.386083</td>\n",
       "      <td>2.308642</td>\n",
       "      <td>0.352413</td>\n",
       "      <td>29.699118</td>\n",
       "      <td>0.523008</td>\n",
       "      <td>0.381594</td>\n",
       "      <td>32.204208</td>\n",
       "      <td>0.188552</td>\n",
       "      <td>0.086420</td>\n",
       "      <td>0.722783</td>\n",
       "    </tr>\n",
       "    <tr>\n",
       "      <th>std</th>\n",
       "      <td>0.487123</td>\n",
       "      <td>0.836071</td>\n",
       "      <td>0.477990</td>\n",
       "      <td>14.526497</td>\n",
       "      <td>1.102743</td>\n",
       "      <td>0.806057</td>\n",
       "      <td>49.693429</td>\n",
       "      <td>0.391372</td>\n",
       "      <td>0.281141</td>\n",
       "      <td>0.447876</td>\n",
       "    </tr>\n",
       "    <tr>\n",
       "      <th>min</th>\n",
       "      <td>0.000000</td>\n",
       "      <td>1.000000</td>\n",
       "      <td>0.000000</td>\n",
       "      <td>0.420000</td>\n",
       "      <td>0.000000</td>\n",
       "      <td>0.000000</td>\n",
       "      <td>0.000000</td>\n",
       "      <td>0.000000</td>\n",
       "      <td>0.000000</td>\n",
       "      <td>0.000000</td>\n",
       "    </tr>\n",
       "    <tr>\n",
       "      <th>25%</th>\n",
       "      <td>0.000000</td>\n",
       "      <td>2.000000</td>\n",
       "      <td>0.000000</td>\n",
       "      <td>20.125000</td>\n",
       "      <td>0.000000</td>\n",
       "      <td>0.000000</td>\n",
       "      <td>7.910400</td>\n",
       "      <td>0.000000</td>\n",
       "      <td>0.000000</td>\n",
       "      <td>0.000000</td>\n",
       "    </tr>\n",
       "    <tr>\n",
       "      <th>50%</th>\n",
       "      <td>0.000000</td>\n",
       "      <td>3.000000</td>\n",
       "      <td>0.000000</td>\n",
       "      <td>28.000000</td>\n",
       "      <td>0.000000</td>\n",
       "      <td>0.000000</td>\n",
       "      <td>14.454200</td>\n",
       "      <td>0.000000</td>\n",
       "      <td>0.000000</td>\n",
       "      <td>1.000000</td>\n",
       "    </tr>\n",
       "    <tr>\n",
       "      <th>75%</th>\n",
       "      <td>1.000000</td>\n",
       "      <td>3.000000</td>\n",
       "      <td>1.000000</td>\n",
       "      <td>38.000000</td>\n",
       "      <td>1.000000</td>\n",
       "      <td>0.000000</td>\n",
       "      <td>31.000000</td>\n",
       "      <td>0.000000</td>\n",
       "      <td>0.000000</td>\n",
       "      <td>1.000000</td>\n",
       "    </tr>\n",
       "    <tr>\n",
       "      <th>max</th>\n",
       "      <td>1.000000</td>\n",
       "      <td>3.000000</td>\n",
       "      <td>1.000000</td>\n",
       "      <td>80.000000</td>\n",
       "      <td>8.000000</td>\n",
       "      <td>6.000000</td>\n",
       "      <td>512.329200</td>\n",
       "      <td>1.000000</td>\n",
       "      <td>1.000000</td>\n",
       "      <td>1.000000</td>\n",
       "    </tr>\n",
       "  </tbody>\n",
       "</table>\n",
       "</div>"
      ],
      "text/plain": [
       "         Survived      Pclass      Gender         Age       SibSp       Parch  \\\n",
       "count  891.000000  891.000000  891.000000  714.000000  891.000000  891.000000   \n",
       "mean     0.386083    2.308642    0.352413   29.699118    0.523008    0.381594   \n",
       "std      0.487123    0.836071    0.477990   14.526497    1.102743    0.806057   \n",
       "min      0.000000    1.000000    0.000000    0.420000    0.000000    0.000000   \n",
       "25%      0.000000    2.000000    0.000000   20.125000    0.000000    0.000000   \n",
       "50%      0.000000    3.000000    0.000000   28.000000    0.000000    0.000000   \n",
       "75%      1.000000    3.000000    1.000000   38.000000    1.000000    0.000000   \n",
       "max      1.000000    3.000000    1.000000   80.000000    8.000000    6.000000   \n",
       "\n",
       "             Fare           C           Q           S  \n",
       "count  891.000000  891.000000  891.000000  891.000000  \n",
       "mean    32.204208    0.188552    0.086420    0.722783  \n",
       "std     49.693429    0.391372    0.281141    0.447876  \n",
       "min      0.000000    0.000000    0.000000    0.000000  \n",
       "25%      7.910400    0.000000    0.000000    0.000000  \n",
       "50%     14.454200    0.000000    0.000000    1.000000  \n",
       "75%     31.000000    0.000000    0.000000    1.000000  \n",
       "max    512.329200    1.000000    1.000000    1.000000  "
      ]
     },
     "execution_count": 18,
     "metadata": {},
     "output_type": "execute_result"
    }
   ],
   "source": [
    "df.describe()"
   ]
  },
  {
   "cell_type": "code",
   "execution_count": 19,
   "id": "dacfe07b",
   "metadata": {},
   "outputs": [],
   "source": [
    "df['Age'].fillna(df['Age'].median(),inplace=True)"
   ]
  },
  {
   "cell_type": "code",
   "execution_count": 20,
   "id": "66d18b9b",
   "metadata": {},
   "outputs": [
    {
     "data": {
      "text/plain": [
       "Survived    0\n",
       "Pclass      0\n",
       "Gender      0\n",
       "Age         0\n",
       "SibSp       0\n",
       "Parch       0\n",
       "Fare        0\n",
       "C           0\n",
       "Q           0\n",
       "S           0\n",
       "dtype: int64"
      ]
     },
     "execution_count": 20,
     "metadata": {},
     "output_type": "execute_result"
    }
   ],
   "source": [
    "df.isna().sum()"
   ]
  },
  {
   "cell_type": "code",
   "execution_count": 21,
   "id": "326d259b",
   "metadata": {},
   "outputs": [
    {
     "data": {
      "text/plain": [
       "0    547\n",
       "1    344\n",
       "Name: Survived, dtype: int64"
      ]
     },
     "execution_count": 21,
     "metadata": {},
     "output_type": "execute_result"
    }
   ],
   "source": [
    "df[\"Survived\"].value_counts()"
   ]
  },
  {
   "cell_type": "code",
   "execution_count": 22,
   "id": "53508cfd",
   "metadata": {},
   "outputs": [
    {
     "data": {
      "text/plain": [
       "<AxesSubplot:xlabel='Survived', ylabel='count'>"
      ]
     },
     "execution_count": 22,
     "metadata": {},
     "output_type": "execute_result"
    },
    {
     "data": {
      "image/png": "[encoded data removed]",
      "text/plain": [
       "<Figure size 432x288 with 1 Axes>"
      ]
     },
     "metadata": {
      "needs_background": "light"
     },
     "output_type": "display_data"
    }
   ],
   "source": [
    "sns.countplot(x=\"Survived\",data=df)"
   ]
  },
  {
   "cell_type": "code",
   "execution_count": 23,
   "id": "05c00854",
   "metadata": {},
   "outputs": [
    {
     "data": {
      "text/plain": [
       "<AxesSubplot:xlabel='Survived', ylabel='count'>"
      ]
     },
     "execution_count": 23,
     "metadata": {},
     "output_type": "execute_result"
    },
    {
     "data": {
      "image/png": "[encoded data removed]",
      "text/plain": [
       "<Figure size 432x288 with 1 Axes>"
      ]
     },
     "metadata": {
      "needs_background": "light"
     },
     "output_type": "display_data"
    }
   ],
   "source": [
    "sns.countplot(x=\"Survived\",hue=\"Gender\",data=df)"
   ]
  },
  {
   "cell_type": "code",
   "execution_count": 24,
   "id": "5eca8bd7",
   "metadata": {},
   "outputs": [
    {
     "data": {
      "text/plain": [
       "<AxesSubplot:xlabel='Survived', ylabel='count'>"
      ]
     },
     "execution_count": 24,
     "metadata": {},
     "output_type": "execute_result"
    },
    {
     "data": {
      "image/png": "[encoded data removed]",
      "text/plain": [
       "<Figure size 432x288 with 1 Axes>"
      ]
     },
     "metadata": {
      "needs_background": "light"
     },
     "output_type": "display_data"
    }
   ],
   "source": [
    "sns.countplot(x=\"Survived\",hue=\"Pclass\",data=df)"
   ]
  },
  {
   "cell_type": "code",
   "execution_count": 27,
   "id": "a2e7fc1d",
   "metadata": {},
   "outputs": [
    {
     "data": {
      "text/plain": [
       "<AxesSubplot:>"
      ]
     },
     "execution_count": 27,
     "metadata": {},
     "output_type": "execute_result"
    },
    {
     "data": {
      "image/png": "[encoded data removed]",
      "text/plain": [
       "<Figure size 432x288 with 2 Axes>"
      ]
     },
     "metadata": {
      "needs_background": "light"
     },
     "output_type": "display_data"
    }
   ],
   "source": [
    "df1 = pd.read_csv(\"titanic.csv\")\n",
    "df1.isna()\n",
    "sns.heatmap(df1.isna(),cmap=\"YlGnBu\")"
   ]
  },
  {
   "cell_type": "markdown",
   "id": "51769e25",
   "metadata": {},
   "source": [
    "# feature selection"
   ]
  },
  {
   "cell_type": "code",
   "execution_count": 28,
   "id": "d655212e",
   "metadata": {},
   "outputs": [],
   "source": [
    "x = df.drop(\"Survived\",axis=1)\n",
    "y = df['Survived']\n"
   ]
  },
  {
   "cell_type": "code",
   "execution_count": 29,
   "id": "723345c2",
   "metadata": {},
   "outputs": [
    {
     "data": {
      "text/plain": [
       "0    547\n",
       "1    344\n",
       "Name: Survived, dtype: int64"
      ]
     },
     "execution_count": 29,
     "metadata": {},
     "output_type": "execute_result"
    }
   ],
   "source": [
    "y.value_counts()"
   ]
  },
  {
   "cell_type": "code",
   "execution_count": 30,
   "id": "8b0cd411",
   "metadata": {},
   "outputs": [
    {
     "data": {
      "text/plain": [
       "0.37485970819304154"
      ]
     },
     "execution_count": 30,
     "metadata": {},
     "output_type": "execute_result"
    }
   ],
   "source": [
    "334/(344+547)"
   ]
  },
  {
   "cell_type": "code",
   "execution_count": 31,
   "id": "986b6f16",
   "metadata": {},
   "outputs": [
    {
     "data": {
      "text/plain": [
       "0.6139169472502806"
      ]
     },
     "execution_count": 31,
     "metadata": {},
     "output_type": "execute_result"
    }
   ],
   "source": [
    "547/(344+547)"
   ]
  },
  {
   "cell_type": "code",
   "execution_count": 32,
   "id": "b1f07d2b",
   "metadata": {},
   "outputs": [],
   "source": [
    "x_train,x_test,y_train,y_test= train_test_split(x,y,test_size=0.25,random_state=42)"
   ]
  },
  {
   "cell_type": "code",
   "execution_count": 33,
   "id": "2bb7ceed",
   "metadata": {},
   "outputs": [
    {
     "data": {
      "text/plain": [
       "0    413\n",
       "1    255\n",
       "Name: Survived, dtype: int64"
      ]
     },
     "execution_count": 33,
     "metadata": {},
     "output_type": "execute_result"
    }
   ],
   "source": [
    "y_train.value_counts()"
   ]
  },
  {
   "cell_type": "code",
   "execution_count": 35,
   "id": "18fb9721",
   "metadata": {},
   "outputs": [
    {
     "data": {
      "text/plain": [
       "0.38173652694610777"
      ]
     },
     "execution_count": 35,
     "metadata": {},
     "output_type": "execute_result"
    }
   ],
   "source": [
    "255/(413+255)"
   ]
  },
  {
   "cell_type": "code",
   "execution_count": 36,
   "id": "b96c4535",
   "metadata": {},
   "outputs": [],
   "source": [
    "x_train,x_test,y_train,y_test= train_test_split(x,y,test_size=0.25,random_state=42,stratify=y)"
   ]
  },
  {
   "cell_type": "code",
   "execution_count": 37,
   "id": "4ef790e5",
   "metadata": {},
   "outputs": [
    {
     "data": {
      "text/plain": [
       "0    410\n",
       "1    258\n",
       "Name: Survived, dtype: int64"
      ]
     },
     "execution_count": 37,
     "metadata": {},
     "output_type": "execute_result"
    }
   ],
   "source": [
    "y_train.value_counts()"
   ]
  },
  {
   "cell_type": "code",
   "execution_count": 38,
   "id": "a8cfd719",
   "metadata": {},
   "outputs": [
    {
     "data": {
      "text/plain": [
       "0.38622754491017963"
      ]
     },
     "execution_count": 38,
     "metadata": {},
     "output_type": "execute_result"
    }
   ],
   "source": [
    "258/(258+410)"
   ]
  },
  {
   "cell_type": "code",
   "execution_count": 39,
   "id": "420468ee",
   "metadata": {},
   "outputs": [
    {
     "data": {
      "text/plain": [
       "304    0\n",
       "566    0\n",
       "104    0\n",
       "345    1\n",
       "441    0\n",
       "      ..\n",
       "837    0\n",
       "295    0\n",
       "381    1\n",
       "155    0\n",
       "627    1\n",
       "Name: Survived, Length: 223, dtype: int64"
      ]
     },
     "execution_count": 39,
     "metadata": {},
     "output_type": "execute_result"
    }
   ],
   "source": [
    "y_test"
   ]
  },
  {
   "cell_type": "markdown",
   "id": "2f712d12",
   "metadata": {},
   "source": [
    "# Model Building"
   ]
  },
  {
   "cell_type": "code",
   "execution_count": 42,
   "id": "75f1514e",
   "metadata": {},
   "outputs": [
    {
     "data": {
      "text/plain": [
       "LogisticRegression()"
      ]
     },
     "execution_count": 42,
     "metadata": {},
     "output_type": "execute_result"
    }
   ],
   "source": [
    "lr_clf = LogisticRegression()\n",
    "lr_clf.fit(x_train,y_train)"
   ]
  },
  {
   "cell_type": "markdown",
   "id": "cc496bdb",
   "metadata": {},
   "source": [
    "# Evaluation"
   ]
  },
  {
   "cell_type": "code",
   "execution_count": 46,
   "id": "4a4f1720",
   "metadata": {},
   "outputs": [
    {
     "data": {
      "text/plain": [
       "array([0, 0, 1, 1, 0], dtype=int64)"
      ]
     },
     "execution_count": 46,
     "metadata": {},
     "output_type": "execute_result"
    }
   ],
   "source": [
    "y_pred = lr_clf.predict(x_test)\n",
    "y_pred[20:25]  # Y predicted"
   ]
  },
  {
   "cell_type": "code",
   "execution_count": 47,
   "id": "523aa5af",
   "metadata": {},
   "outputs": [
    {
     "data": {
      "text/plain": [
       "288    1\n",
       "21     1\n",
       "139    0\n",
       "556    1\n",
       "562    0\n",
       "Name: Survived, dtype: int64"
      ]
     },
     "execution_count": 47,
     "metadata": {},
     "output_type": "execute_result"
    }
   ],
   "source": [
    "y_test[20:25] # y actual"
   ]
  },
  {
   "cell_type": "markdown",
   "id": "532495f5",
   "metadata": {},
   "source": [
    "# Accuracy"
   ]
  },
  {
   "cell_type": "code",
   "execution_count": 49,
   "id": "8a7d5dd5",
   "metadata": {},
   "outputs": [
    {
     "name": "stdout",
     "output_type": "stream",
     "text": [
      "Confusion matrix:\n",
      " [[112  25]\n",
      " [ 25  61]]\n"
     ]
    }
   ],
   "source": [
    "cnf_matrix = confusion_matrix(y_test,y_pred)\n",
    "print(\"Confusion matrix:\\n\",cnf_matrix)"
   ]
  },
  {
   "cell_type": "code",
   "execution_count": null,
   "id": "c9959704",
   "metadata": {},
   "outputs": [],
   "source": [
    "    Actual values\n",
    "    P    N\n",
    "P  TP   FP\n",
    "N  FN   TN\n",
    "\n",
    "    Actual values\n",
    "    1    0\n",
    "1  TP   FP\n",
    "0  FN   TN\n",
    "\n",
    "# Sklearn Confusion matrix\n",
    "\n",
    "    Predicted values\n",
    "    0    1\n",
    "0  TN   FP\n",
    "1  FN   TP\n",
    "\n",
    "[[112  25]\n",
    " [ 25  61]]\n",
    "\n",
    "Precision = TP/(TP+FP)"
   ]
  },
  {
   "cell_type": "code",
   "execution_count": 50,
   "id": "f577838a",
   "metadata": {},
   "outputs": [
    {
     "data": {
      "text/plain": [
       "0.7093023255813954"
      ]
     },
     "execution_count": 50,
     "metadata": {},
     "output_type": "execute_result"
    }
   ],
   "source": [
    "#Precision = TP/(TP+FP)\n",
    "Precision = 61/(61+25)\n",
    "Precision"
   ]
  },
  {
   "cell_type": "code",
   "execution_count": 55,
   "id": "df78d847",
   "metadata": {},
   "outputs": [
    {
     "data": {
      "text/plain": [
       "0.8175182481751825"
      ]
     },
     "execution_count": 55,
     "metadata": {},
     "output_type": "execute_result"
    }
   ],
   "source": [
    "Precision = 112/(112+25)\n",
    "Precision"
   ]
  },
  {
   "cell_type": "code",
   "execution_count": 51,
   "id": "b3a02293",
   "metadata": {},
   "outputs": [
    {
     "data": {
      "text/plain": [
       "0.7093023255813954"
      ]
     },
     "execution_count": 51,
     "metadata": {},
     "output_type": "execute_result"
    }
   ],
   "source": [
    "#Recall = TP/(TP+FN)\n",
    "Recall = 61/(61+25)\n",
    "Recall"
   ]
  },
  {
   "cell_type": "code",
   "execution_count": 56,
   "id": "b6adcc29",
   "metadata": {},
   "outputs": [
    {
     "data": {
      "text/plain": [
       "0.8175182481751825"
      ]
     },
     "execution_count": 56,
     "metadata": {},
     "output_type": "execute_result"
    }
   ],
   "source": [
    "Recall = 112/(112+25)\n",
    "Recall"
   ]
  },
  {
   "cell_type": "code",
   "execution_count": 52,
   "id": "cf0a3918",
   "metadata": {},
   "outputs": [
    {
     "data": {
      "text/plain": [
       "0.7757847533632287"
      ]
     },
     "execution_count": 52,
     "metadata": {},
     "output_type": "execute_result"
    }
   ],
   "source": [
    "#Accuracy = (TP+TN)/(TP+TN+FP+FN)\n",
    "Accuracy = (61+112)/(61+112+25+25)\n",
    "Accuracy"
   ]
  },
  {
   "cell_type": "code",
   "execution_count": 53,
   "id": "0bb92aee",
   "metadata": {},
   "outputs": [
    {
     "data": {
      "text/plain": [
       "0.7757847533632287"
      ]
     },
     "execution_count": 53,
     "metadata": {},
     "output_type": "execute_result"
    }
   ],
   "source": [
    "accuracy_score(y_test,y_pred)"
   ]
  },
  {
   "cell_type": "code",
   "execution_count": 54,
   "id": "3dd269e0",
   "metadata": {},
   "outputs": [
    {
     "name": "stdout",
     "output_type": "stream",
     "text": [
      "classification_report is :\n",
      "               precision    recall  f1-score   support\n",
      "\n",
      "           0       0.82      0.82      0.82       137\n",
      "           1       0.71      0.71      0.71        86\n",
      "\n",
      "    accuracy                           0.78       223\n",
      "   macro avg       0.76      0.76      0.76       223\n",
      "weighted avg       0.78      0.78      0.78       223\n",
      "\n"
     ]
    }
   ],
   "source": [
    "clf_report = classification_report(y_test,y_pred)\n",
    "print(\"classification_report is :\\n\",clf_report)"
   ]
  },
  {
   "cell_type": "code",
   "execution_count": 57,
   "id": "caa5ef62",
   "metadata": {},
   "outputs": [
    {
     "data": {
      "text/plain": [
       "array([[0.90255512, 0.09744488],\n",
       "       [0.86174336, 0.13825664],\n",
       "       [0.96105511, 0.03894489],\n",
       "       [0.16261247, 0.83738753],\n",
       "       [0.86652504, 0.13347496],\n",
       "       [0.19068892, 0.80931108],\n",
       "       [0.06154408, 0.93845592],\n",
       "       [0.30219429, 0.69780571],\n",
       "       [0.74037399, 0.25962601],\n",
       "       [0.8617731 , 0.1382269 ],\n",
       "       [0.84597772, 0.15402228],\n",
       "       [0.23668509, 0.76331491],\n",
       "       [0.91003278, 0.08996722],\n",
       "       [0.87066489, 0.12933511],\n",
       "       [0.92650937, 0.07349063],\n",
       "       [0.1687689 , 0.8312311 ],\n",
       "       [0.93514036, 0.06485964],\n",
       "       [0.76533595, 0.23466405],\n",
       "       [0.28633404, 0.71366596],\n",
       "       [0.87045729, 0.12954271],\n",
       "       [0.85469919, 0.14530081],\n",
       "       [0.80527162, 0.19472838],\n",
       "       [0.32279282, 0.67720718],\n",
       "       [0.1269251 , 0.8730749 ],\n",
       "       [0.76028882, 0.23971118],\n",
       "       [0.05447167, 0.94552833],\n",
       "       [0.33052709, 0.66947291],\n",
       "       [0.47682533, 0.52317467],\n",
       "       [0.32893165, 0.67106835],\n",
       "       [0.18114211, 0.81885789],\n",
       "       [0.18804978, 0.81195022],\n",
       "       [0.81287281, 0.18712719],\n",
       "       [0.08739332, 0.91260668],\n",
       "       [0.8814288 , 0.1185712 ],\n",
       "       [0.85162986, 0.14837014],\n",
       "       [0.86864073, 0.13135927],\n",
       "       [0.26476562, 0.73523438],\n",
       "       [0.15229738, 0.84770262],\n",
       "       [0.98928014, 0.01071986],\n",
       "       [0.69547058, 0.30452942],\n",
       "       [0.86914098, 0.13085902],\n",
       "       [0.34169643, 0.65830357],\n",
       "       [0.86367581, 0.13632419],\n",
       "       [0.78371279, 0.21628721],\n",
       "       [0.22588822, 0.77411178],\n",
       "       [0.69331535, 0.30668465],\n",
       "       [0.94700729, 0.05299271],\n",
       "       [0.87254231, 0.12745769],\n",
       "       [0.84695987, 0.15304013],\n",
       "       [0.94030357, 0.05969643],\n",
       "       [0.75236219, 0.24763781],\n",
       "       [0.51583789, 0.48416211],\n",
       "       [0.3032266 , 0.6967734 ],\n",
       "       [0.28891882, 0.71108118],\n",
       "       [0.26151601, 0.73848399],\n",
       "       [0.91414196, 0.08585804],\n",
       "       [0.90258314, 0.09741686],\n",
       "       [0.75321366, 0.24678634],\n",
       "       [0.31540237, 0.68459763],\n",
       "       [0.65279681, 0.34720319],\n",
       "       [0.71750194, 0.28249806],\n",
       "       [0.72902252, 0.27097748],\n",
       "       [0.92345336, 0.07654664],\n",
       "       [0.47076162, 0.52923838],\n",
       "       [0.95141928, 0.04858072],\n",
       "       [0.8835326 , 0.1164674 ],\n",
       "       [0.32893165, 0.67106835],\n",
       "       [0.92420783, 0.07579217],\n",
       "       [0.87045729, 0.12954271],\n",
       "       [0.89210494, 0.10789506],\n",
       "       [0.98928014, 0.01071986],\n",
       "       [0.89994753, 0.10005247],\n",
       "       [0.90258314, 0.09741686],\n",
       "       [0.71212892, 0.28787108],\n",
       "       [0.76932594, 0.23067406],\n",
       "       [0.92859257, 0.07140743],\n",
       "       [0.94449713, 0.05550287],\n",
       "       [0.02738307, 0.97261693],\n",
       "       [0.26901886, 0.73098114],\n",
       "       [0.32875492, 0.67124508],\n",
       "       [0.81948058, 0.18051942],\n",
       "       [0.96064413, 0.03935587],\n",
       "       [0.9732219 , 0.0267781 ],\n",
       "       [0.46713051, 0.53286949],\n",
       "       [0.92848837, 0.07151163],\n",
       "       [0.35367923, 0.64632077],\n",
       "       [0.89881421, 0.10118579],\n",
       "       [0.55788827, 0.44211173],\n",
       "       [0.0812365 , 0.9187635 ],\n",
       "       [0.12542014, 0.87457986],\n",
       "       [0.90270041, 0.09729959],\n",
       "       [0.11880638, 0.88119362],\n",
       "       [0.03903107, 0.96096893],\n",
       "       [0.394166  , 0.605834  ],\n",
       "       [0.16261247, 0.83738753],\n",
       "       [0.90229128, 0.09770872],\n",
       "       [0.92364624, 0.07635376],\n",
       "       [0.91005887, 0.08994113],\n",
       "       [0.38736419, 0.61263581],\n",
       "       [0.76047707, 0.23952293],\n",
       "       [0.0342725 , 0.9657275 ],\n",
       "       [0.50028809, 0.49971191],\n",
       "       [0.8988335 , 0.1011665 ],\n",
       "       [0.88143778, 0.11856222],\n",
       "       [0.32887272, 0.67112728],\n",
       "       [0.91694023, 0.08305977],\n",
       "       [0.13756581, 0.86243419],\n",
       "       [0.92424401, 0.07575599],\n",
       "       [0.2241679 , 0.7758321 ],\n",
       "       [0.7614168 , 0.2385832 ],\n",
       "       [0.18248996, 0.81751004],\n",
       "       [0.84615825, 0.15384175],\n",
       "       [0.65466536, 0.34533464],\n",
       "       [0.70662819, 0.29337181],\n",
       "       [0.40053947, 0.59946053],\n",
       "       [0.24021968, 0.75978032],\n",
       "       [0.88613185, 0.11386815],\n",
       "       [0.96673092, 0.03326908],\n",
       "       [0.05158098, 0.94841902],\n",
       "       [0.86118231, 0.13881769],\n",
       "       [0.76533595, 0.23466405],\n",
       "       [0.700812  , 0.299188  ],\n",
       "       [0.10966694, 0.89033306],\n",
       "       [0.40321518, 0.59678482],\n",
       "       [0.27391062, 0.72608938],\n",
       "       [0.32893165, 0.67106835],\n",
       "       [0.9013766 , 0.0986234 ],\n",
       "       [0.93088257, 0.06911743],\n",
       "       [0.51467515, 0.48532485],\n",
       "       [0.44888433, 0.55111567],\n",
       "       [0.80795195, 0.19204805],\n",
       "       [0.87193045, 0.12806955],\n",
       "       [0.6529221 , 0.3470779 ],\n",
       "       [0.9136193 , 0.0863807 ],\n",
       "       [0.11914657, 0.88085343],\n",
       "       [0.83176172, 0.16823828],\n",
       "       [0.0342725 , 0.9657275 ],\n",
       "       [0.9169894 , 0.0830106 ],\n",
       "       [0.85070855, 0.14929145],\n",
       "       [0.84508867, 0.15491133],\n",
       "       [0.90264595, 0.09735405],\n",
       "       [0.60338395, 0.39661605],\n",
       "       [0.83381941, 0.16618059],\n",
       "       [0.26667334, 0.73332666],\n",
       "       [0.26458538, 0.73541462],\n",
       "       [0.90636086, 0.09363914],\n",
       "       [0.3519558 , 0.6480442 ],\n",
       "       [0.90258314, 0.09741686],\n",
       "       [0.92389985, 0.07610015],\n",
       "       [0.45167936, 0.54832064],\n",
       "       [0.91372149, 0.08627851],\n",
       "       [0.90270041, 0.09729959],\n",
       "       [0.70854329, 0.29145671],\n",
       "       [0.94318534, 0.05681466],\n",
       "       [0.08535668, 0.91464332],\n",
       "       [0.76545182, 0.23454818],\n",
       "       [0.97547454, 0.02452546],\n",
       "       [0.5792756 , 0.4207244 ],\n",
       "       [0.90268907, 0.09731093],\n",
       "       [0.2979481 , 0.7020519 ],\n",
       "       [0.88187299, 0.11812701],\n",
       "       [0.43053114, 0.56946886],\n",
       "       [0.67215203, 0.32784797],\n",
       "       [0.2241619 , 0.7758381 ],\n",
       "       [0.74648302, 0.25351698],\n",
       "       [0.16453067, 0.83546933],\n",
       "       [0.13169994, 0.86830006],\n",
       "       [0.38590631, 0.61409369],\n",
       "       [0.45287698, 0.54712302],\n",
       "       [0.86550329, 0.13449671],\n",
       "       [0.12334787, 0.87665213],\n",
       "       [0.63724007, 0.36275993],\n",
       "       [0.90255512, 0.09744488],\n",
       "       [0.9493549 , 0.0506451 ],\n",
       "       [0.22622278, 0.77377722],\n",
       "       [0.93569447, 0.06430553],\n",
       "       [0.72067323, 0.27932677],\n",
       "       [0.84615712, 0.15384288],\n",
       "       [0.35349254, 0.64650746],\n",
       "       [0.87046021, 0.12953979],\n",
       "       [0.84615712, 0.15384288],\n",
       "       [0.1716542 , 0.8283458 ],\n",
       "       [0.51235216, 0.48764784],\n",
       "       [0.08411192, 0.91588808],\n",
       "       [0.71810191, 0.28189809],\n",
       "       [0.56176603, 0.43823397],\n",
       "       [0.51753004, 0.48246996],\n",
       "       [0.06837792, 0.93162208],\n",
       "       [0.78020832, 0.21979168],\n",
       "       [0.10700652, 0.89299348],\n",
       "       [0.94718182, 0.05281818],\n",
       "       [0.87187275, 0.12812725],\n",
       "       [0.89452798, 0.10547202],\n",
       "       [0.63229293, 0.36770707],\n",
       "       [0.4956325 , 0.5043675 ],\n",
       "       [0.90610625, 0.09389375],\n",
       "       [0.07195742, 0.92804258],\n",
       "       [0.89075317, 0.10924683],\n",
       "       [0.0811666 , 0.9188334 ],\n",
       "       [0.37199761, 0.62800239],\n",
       "       [0.91701365, 0.08298635],\n",
       "       [0.90255512, 0.09744488],\n",
       "       [0.87045729, 0.12954271],\n",
       "       [0.90229128, 0.09770872],\n",
       "       [0.90260131, 0.09739869],\n",
       "       [0.21045714, 0.78954286],\n",
       "       [0.42234905, 0.57765095],\n",
       "       [0.32893926, 0.67106074],\n",
       "       [0.726932  , 0.273068  ],\n",
       "       [0.91702019, 0.08297981],\n",
       "       [0.66464621, 0.33535379],\n",
       "       [0.69712796, 0.30287204],\n",
       "       [0.89455804, 0.10544196],\n",
       "       [0.3737248 , 0.6262752 ],\n",
       "       [0.14060872, 0.85939128],\n",
       "       [0.48036278, 0.51963722],\n",
       "       [0.19555792, 0.80444208],\n",
       "       [0.81373214, 0.18626786],\n",
       "       [0.90255512, 0.09744488],\n",
       "       [0.38736419, 0.61263581],\n",
       "       [0.11638248, 0.88361752],\n",
       "       [0.62985173, 0.37014827],\n",
       "       [0.04899959, 0.95100041]])"
      ]
     },
     "execution_count": 57,
     "metadata": {},
     "output_type": "execute_result"
    }
   ],
   "source": [
    "y_pred_prob = lr_clf.predict_proba(x_test)\n",
    "y_pred_prob"
   ]
  },
  {
   "cell_type": "code",
   "execution_count": 58,
   "id": "8a092b4a",
   "metadata": {},
   "outputs": [
    {
     "data": {
      "text/plain": [
       "array([0, 1, 1, 0, 1], dtype=int64)"
      ]
     },
     "execution_count": 58,
     "metadata": {},
     "output_type": "execute_result"
    }
   ],
   "source": [
    "y_pred[-5:]"
   ]
  },
  {
   "cell_type": "code",
   "execution_count": null,
   "id": "2beb7974",
   "metadata": {},
   "outputs": [],
   "source": [
    "       [0.90255512, 0.09744488], >> class 0\n",
    "       [0.38736419, 0.61263581], >> class 1\n",
    "       [0.11638248, 0.88361752], >> class 1\n",
    "       [0.62985173, 0.37014827], >> class 0\n",
    "       [0.04899959, 0.95100041]] >> class 1"
   ]
  },
  {
   "cell_type": "code",
   "execution_count": 59,
   "id": "36bcde18",
   "metadata": {},
   "outputs": [
    {
     "data": {
      "text/plain": [
       "array([0.09744488, 0.13825664, 0.03894489, 0.83738753, 0.13347496,\n",
       "       0.80931108, 0.93845592, 0.69780571, 0.25962601, 0.1382269 ,\n",
       "       0.15402228, 0.76331491, 0.08996722, 0.12933511, 0.07349063,\n",
       "       0.8312311 , 0.06485964, 0.23466405, 0.71366596, 0.12954271,\n",
       "       0.14530081, 0.19472838, 0.67720718, 0.8730749 , 0.23971118,\n",
       "       0.94552833, 0.66947291, 0.52317467, 0.67106835, 0.81885789,\n",
       "       0.81195022, 0.18712719, 0.91260668, 0.1185712 , 0.14837014,\n",
       "       0.13135927, 0.73523438, 0.84770262, 0.01071986, 0.30452942,\n",
       "       0.13085902, 0.65830357, 0.13632419, 0.21628721, 0.77411178,\n",
       "       0.30668465, 0.05299271, 0.12745769, 0.15304013, 0.05969643,\n",
       "       0.24763781, 0.48416211, 0.6967734 , 0.71108118, 0.73848399,\n",
       "       0.08585804, 0.09741686, 0.24678634, 0.68459763, 0.34720319,\n",
       "       0.28249806, 0.27097748, 0.07654664, 0.52923838, 0.04858072,\n",
       "       0.1164674 , 0.67106835, 0.07579217, 0.12954271, 0.10789506,\n",
       "       0.01071986, 0.10005247, 0.09741686, 0.28787108, 0.23067406,\n",
       "       0.07140743, 0.05550287, 0.97261693, 0.73098114, 0.67124508,\n",
       "       0.18051942, 0.03935587, 0.0267781 , 0.53286949, 0.07151163,\n",
       "       0.64632077, 0.10118579, 0.44211173, 0.9187635 , 0.87457986,\n",
       "       0.09729959, 0.88119362, 0.96096893, 0.605834  , 0.83738753,\n",
       "       0.09770872, 0.07635376, 0.08994113, 0.61263581, 0.23952293,\n",
       "       0.9657275 , 0.49971191, 0.1011665 , 0.11856222, 0.67112728,\n",
       "       0.08305977, 0.86243419, 0.07575599, 0.7758321 , 0.2385832 ,\n",
       "       0.81751004, 0.15384175, 0.34533464, 0.29337181, 0.59946053,\n",
       "       0.75978032, 0.11386815, 0.03326908, 0.94841902, 0.13881769,\n",
       "       0.23466405, 0.299188  , 0.89033306, 0.59678482, 0.72608938,\n",
       "       0.67106835, 0.0986234 , 0.06911743, 0.48532485, 0.55111567,\n",
       "       0.19204805, 0.12806955, 0.3470779 , 0.0863807 , 0.88085343,\n",
       "       0.16823828, 0.9657275 , 0.0830106 , 0.14929145, 0.15491133,\n",
       "       0.09735405, 0.39661605, 0.16618059, 0.73332666, 0.73541462,\n",
       "       0.09363914, 0.6480442 , 0.09741686, 0.07610015, 0.54832064,\n",
       "       0.08627851, 0.09729959, 0.29145671, 0.05681466, 0.91464332,\n",
       "       0.23454818, 0.02452546, 0.4207244 , 0.09731093, 0.7020519 ,\n",
       "       0.11812701, 0.56946886, 0.32784797, 0.7758381 , 0.25351698,\n",
       "       0.83546933, 0.86830006, 0.61409369, 0.54712302, 0.13449671,\n",
       "       0.87665213, 0.36275993, 0.09744488, 0.0506451 , 0.77377722,\n",
       "       0.06430553, 0.27932677, 0.15384288, 0.64650746, 0.12953979,\n",
       "       0.15384288, 0.8283458 , 0.48764784, 0.91588808, 0.28189809,\n",
       "       0.43823397, 0.48246996, 0.93162208, 0.21979168, 0.89299348,\n",
       "       0.05281818, 0.12812725, 0.10547202, 0.36770707, 0.5043675 ,\n",
       "       0.09389375, 0.92804258, 0.10924683, 0.9188334 , 0.62800239,\n",
       "       0.08298635, 0.09744488, 0.12954271, 0.09770872, 0.09739869,\n",
       "       0.78954286, 0.57765095, 0.67106074, 0.273068  , 0.08297981,\n",
       "       0.33535379, 0.30287204, 0.10544196, 0.6262752 , 0.85939128,\n",
       "       0.51963722, 0.80444208, 0.18626786, 0.09744488, 0.61263581,\n",
       "       0.88361752, 0.37014827, 0.95100041])"
      ]
     },
     "execution_count": 59,
     "metadata": {},
     "output_type": "execute_result"
    }
   ],
   "source": [
    "y_pred_prob[:,1]"
   ]
  },
  {
   "cell_type": "code",
   "execution_count": 60,
   "id": "de3914ec",
   "metadata": {},
   "outputs": [],
   "source": [
    "fpr,tpr,thresh = roc_curve(y_test,y_pred_prob[:,1])"
   ]
  },
  {
   "cell_type": "code",
   "execution_count": 63,
   "id": "b9e0e752",
   "metadata": {},
   "outputs": [
    {
     "data": {
      "text/plain": [
       "array([1.97261693, 0.97261693, 0.9657275 , 0.93162208, 0.92804258,\n",
       "       0.84770262, 0.83738753, 0.80444208, 0.78954286, 0.7758321 ,\n",
       "       0.77411178, 0.73848399, 0.73523438, 0.7020519 , 0.67124508,\n",
       "       0.67112728, 0.67106835, 0.65830357, 0.6480442 , 0.64650746,\n",
       "       0.62800239, 0.6262752 , 0.61409369, 0.61263581, 0.59946053,\n",
       "       0.59678482, 0.56946886, 0.55111567, 0.54832064, 0.53286949,\n",
       "       0.52923838, 0.48764784, 0.48416211, 0.48246996, 0.44211173,\n",
       "       0.4207244 , 0.39661605, 0.37014827, 0.34720319, 0.34533464,\n",
       "       0.33535379, 0.28189809, 0.27932677, 0.25962601, 0.25351698,\n",
       "       0.24763781, 0.24678634, 0.2385832 , 0.23466405, 0.23454818,\n",
       "       0.21979168, 0.19472838, 0.15402228, 0.15384288, 0.15384175,\n",
       "       0.15304013, 0.14929145, 0.14530081, 0.13085902, 0.12954271,\n",
       "       0.11812701, 0.1164674 , 0.10544196, 0.10118579, 0.0986234 ,\n",
       "       0.09770872, 0.09744488, 0.09741686, 0.09731093, 0.09729959,\n",
       "       0.09389375, 0.08305977, 0.0830106 , 0.08298635, 0.08297981,\n",
       "       0.05281818, 0.04858072, 0.02452546, 0.01071986])"
      ]
     },
     "execution_count": 63,
     "metadata": {},
     "output_type": "execute_result"
    }
   ],
   "source": [
    "thresh"
   ]
  },
  {
   "cell_type": "markdown",
   "id": "370629e1",
   "metadata": {},
   "source": [
    "# ROC Curve"
   ]
  },
  {
   "cell_type": "code",
   "execution_count": 67,
   "id": "5459a8ec",
   "metadata": {},
   "outputs": [
    {
     "data": {
      "text/plain": [
       "Text(0, 0.5, 'True Positive Rate')"
      ]
     },
     "execution_count": 67,
     "metadata": {},
     "output_type": "execute_result"
    },
    {
     "data": {
      "image/png": "[encoded data removed]",
      "text/plain": [
       "<Figure size 432x288 with 1 Axes>"
      ]
     },
     "metadata": {
      "needs_background": "light"
     },
     "output_type": "display_data"
    }
   ],
   "source": [
    "plt.title(\"ROC Curve\")\n",
    "plt.plot(fpr,tpr)\n",
    "plt.xlabel(\"Flase Positive Rate\")\n",
    "plt.ylabel(\"True Positive Rate\")"
   ]
  },
  {
   "cell_type": "code",
   "execution_count": null,
   "id": "66175bed",
   "metadata": {},
   "outputs": [],
   "source": []
  }
 ],
 "metadata": {
  "kernelspec": {
   "display_name": "Python 3 (ipykernel)",
   "language": "python",
   "name": "python3"
  },
  "language_info": {
   "codemirror_mode": {
    "name": "ipython",
    "version": 3
   },
   "file_extension": ".py",
   "mimetype": "text/x-python",
   "name": "python",
   "nbconvert_exporter": "python",
   "pygments_lexer": "ipython3",
   "version": "3.9.12"
  }
 },
 "nbformat": 4,
 "nbformat_minor": 5
}
